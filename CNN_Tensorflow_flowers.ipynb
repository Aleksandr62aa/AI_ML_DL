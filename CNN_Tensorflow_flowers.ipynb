{
  "nbformat": 4,
  "nbformat_minor": 0,
  "metadata": {
    "colab": {
      "provenance": [],
      "gpuType": "T4",
      "authorship_tag": "ABX9TyPKTou9cmK2233yX1zC0jIA",
      "include_colab_link": true
    },
    "kernelspec": {
      "name": "python3",
      "display_name": "Python 3"
    },
    "language_info": {
      "name": "python"
    },
    "accelerator": "GPU"
  },
  "cells": [
    {
      "cell_type": "markdown",
      "metadata": {
        "id": "view-in-github",
        "colab_type": "text"
      },
      "source": [
        "<a href=\"https://colab.research.google.com/github/Aleksandr62aa/AI_ML_DL/blob/main/CNN_Tensorflow_flowers.ipynb\" target=\"_parent\"><img src=\"https://colab.research.google.com/assets/colab-badge.svg\" alt=\"Open In Colab\"/></a>"
      ]
    },
    {
      "cell_type": "markdown",
      "source": [
        "**Classifying images using TensorFlow**"
      ],
      "metadata": {
        "id": "9EVPEMTsiAHn"
      }
    },
    {
      "cell_type": "markdown",
      "source": [
        "**Importing libraries**"
      ],
      "metadata": {
        "id": "vW40AFroin2d"
      }
    },
    {
      "cell_type": "code",
      "execution_count": 1,
      "metadata": {
        "id": "k2ByVtYrSt8C"
      },
      "outputs": [],
      "source": [
        "import pathlib\n",
        "import matplotlib.pyplot as plt\n",
        "import numpy as np\n",
        "import PIL\n",
        "import tensorflow as tf\n",
        "\n",
        "from tensorflow import keras\n",
        "from tensorflow.keras import layers\n",
        "from tensorflow.keras.models import Sequential\n",
        "\n",
        "# Fixed seed\n",
        "np.random.seed(1)"
      ]
    },
    {
      "cell_type": "code",
      "source": [
        "#  download the dataset\n",
        "dataset_url = \"https://storage.googleapis.com/download.tensorflow.org/example_images/flower_photos.tgz\"\n",
        "dataset_dir = tf.keras.utils.get_file('flower_photos.tar', origin=dataset_url, extract=True)\n",
        "print(dataset_dir)\n",
        "dataset_dir = pathlib.Path(dataset_dir).with_suffix('')\n",
        "print(dataset_dir)\n"
      ],
      "metadata": {
        "id": "O2hYbpHJvfLx",
        "colab": {
          "base_uri": "https://localhost:8080/"
        },
        "outputId": "59d87d0b-730c-40db-c9ff-1801e9f6129e"
      },
      "execution_count": 2,
      "outputs": [
        {
          "output_type": "stream",
          "name": "stdout",
          "text": [
            "/root/.keras/datasets/flower_photos.tar\n",
            "/root/.keras/datasets/flower_photos\n"
          ]
        }
      ]
    },
    {
      "cell_type": "code",
      "source": [
        "image_count = len(list(dataset_dir.glob(\"*/*.jpg\")))\n",
        "print(f\"Total images:{image_count}\")"
      ],
      "metadata": {
        "colab": {
          "base_uri": "https://localhost:8080/"
        },
        "id": "meRtoJo0vfN-",
        "outputId": "07870c84-a3ff-46ca-b19e-dfdf57e78d2c"
      },
      "execution_count": 3,
      "outputs": [
        {
          "output_type": "stream",
          "name": "stdout",
          "text": [
            "Total images:3670\n"
          ]
        }
      ]
    },
    {
      "cell_type": "markdown",
      "source": [
        "**Train Val dataset**"
      ],
      "metadata": {
        "id": "t9TQ7GsilmG4"
      }
    },
    {
      "cell_type": "code",
      "source": [
        "batch_size = 32\n",
        "img_width = 180\n",
        "img_height = 180\n",
        "\n",
        "train_ds = tf.keras.utils.image_dataset_from_directory(\n",
        "    dataset_dir,\n",
        "    validation_split=0.2,\n",
        "    subset=\"training\",\n",
        "    seed=123,\n",
        "    image_size=(img_height, img_width),\n",
        "    batch_size = batch_size)\n",
        "\n",
        "val_ds = tf.keras.utils.image_dataset_from_directory(\n",
        "    dataset_dir,\n",
        "    validation_split=0.2,\n",
        "    subset=\"validation\",\n",
        "    seed=123,\n",
        "    image_size=(img_height, img_width),\n",
        "    batch_size = batch_size)\n",
        "\n",
        "class_names = train_ds.class_names\n",
        "print(f\"Class names: {class_names}\")\n",
        "\n",
        "# cache\n",
        "AUTOTUNE = tf.data.AUTOTUNE\n",
        "train_ds = train_ds.cache().shuffle(1000).prefetch(buffer_size=AUTOTUNE)\n",
        "val_ds = val_ds.cache().prefetch(buffer_size=AUTOTUNE)"
      ],
      "metadata": {
        "colab": {
          "base_uri": "https://localhost:8080/"
        },
        "id": "aRht062NTYjx",
        "outputId": "a97e8b09-d00c-403d-e3d8-079e62679df7"
      },
      "execution_count": 4,
      "outputs": [
        {
          "output_type": "stream",
          "name": "stdout",
          "text": [
            "Found 3670 files belonging to 5 classes.\n",
            "Using 2936 files for training.\n",
            "Found 3670 files belonging to 5 classes.\n",
            "Using 734 files for validation.\n",
            "Class names: ['daisy', 'dandelion', 'roses', 'sunflowers', 'tulips']\n"
          ]
        }
      ]
    },
    {
      "cell_type": "code",
      "source": [
        "# creat model\n",
        "num_classes=len(class_names)\n",
        "model =Sequential([\n",
        "    layers.experimental.preprocessing.Rescaling(1./255, input_shape=(img_height, img_width, 3)),\n",
        "\n",
        "    # augmentation\n",
        "    layers.experimental.preprocessing.RandomFlip(\"horizontal\", input_shape=(img_height, img_width, 3)),\n",
        "    layers.experimental.preprocessing.RandomRotation(0.1),\n",
        "    layers.experimental.preprocessing.RandomZoom(0.1),\n",
        "    layers.experimental.preprocessing.RandomContrast(0.2),\n",
        "\n",
        "    layers.Conv2D(16, 3, padding='same', activation='relu'),\n",
        "    layers.MaxPooling2D(),\n",
        "\n",
        "    layers.Conv2D(32, 3, padding='same', activation='relu'),\n",
        "    layers.MaxPooling2D(),\n",
        "\n",
        "    layers.Conv2D(64, 3, padding='same', activation='relu'),\n",
        "    layers.MaxPooling2D(),\n",
        "\n",
        "    # regularization\n",
        "    layers.Dropout(0.2),\n",
        "\n",
        "    layers.Flatten(),\n",
        "    layers.Dense(128, activation='relu'),\n",
        "    layers.Dense(num_classes)\n",
        "])"
      ],
      "metadata": {
        "id": "e-Ayq4Bs3nxO"
      },
      "execution_count": 5,
      "outputs": []
    },
    {
      "cell_type": "code",
      "source": [
        "# compile the model\n",
        "model.compile(\n",
        "   optimizer='adam',\n",
        "   loss=tf.keras.losses.SparseCategoricalCrossentropy(from_logits=True),\n",
        "   metrics=['accuracy'])\n",
        "model.summary()"
      ],
      "metadata": {
        "colab": {
          "base_uri": "https://localhost:8080/"
        },
        "id": "xDDrDfHcyimP",
        "outputId": "fb25ef73-1650-416a-b84f-03d84fbb2153"
      },
      "execution_count": 6,
      "outputs": [
        {
          "output_type": "stream",
          "name": "stdout",
          "text": [
            "Model: \"sequential\"\n",
            "_________________________________________________________________\n",
            " Layer (type)                Output Shape              Param #   \n",
            "=================================================================\n",
            " rescaling (Rescaling)       (None, 180, 180, 3)       0         \n",
            "                                                                 \n",
            " random_flip (RandomFlip)    (None, 180, 180, 3)       0         \n",
            "                                                                 \n",
            " random_rotation (RandomRot  (None, 180, 180, 3)       0         \n",
            " ation)                                                          \n",
            "                                                                 \n",
            " random_zoom (RandomZoom)    (None, 180, 180, 3)       0         \n",
            "                                                                 \n",
            " random_contrast (RandomCon  (None, 180, 180, 3)       0         \n",
            " trast)                                                          \n",
            "                                                                 \n",
            " conv2d (Conv2D)             (None, 180, 180, 16)      448       \n",
            "                                                                 \n",
            " max_pooling2d (MaxPooling2  (None, 90, 90, 16)        0         \n",
            " D)                                                              \n",
            "                                                                 \n",
            " conv2d_1 (Conv2D)           (None, 90, 90, 32)        4640      \n",
            "                                                                 \n",
            " max_pooling2d_1 (MaxPoolin  (None, 45, 45, 32)        0         \n",
            " g2D)                                                            \n",
            "                                                                 \n",
            " conv2d_2 (Conv2D)           (None, 45, 45, 64)        18496     \n",
            "                                                                 \n",
            " max_pooling2d_2 (MaxPoolin  (None, 22, 22, 64)        0         \n",
            " g2D)                                                            \n",
            "                                                                 \n",
            " dropout (Dropout)           (None, 22, 22, 64)        0         \n",
            "                                                                 \n",
            " flatten (Flatten)           (None, 30976)             0         \n",
            "                                                                 \n",
            " dense (Dense)               (None, 128)               3965056   \n",
            "                                                                 \n",
            " dense_1 (Dense)             (None, 5)                 645       \n",
            "                                                                 \n",
            "=================================================================\n",
            "Total params: 3989285 (15.22 MB)\n",
            "Trainable params: 3989285 (15.22 MB)\n",
            "Non-trainable params: 0 (0.00 Byte)\n",
            "_________________________________________________________________\n"
          ]
        }
      ]
    },
    {
      "cell_type": "code",
      "source": [
        "epochs = 20\n",
        "history = model.fit(\n",
        "    train_ds,\n",
        "    validation_data=val_ds,\n",
        "    epochs=epochs)"
      ],
      "metadata": {
        "colab": {
          "base_uri": "https://localhost:8080/"
        },
        "id": "pp7AmWsQX105",
        "outputId": "847212b4-bcec-4341-a3ba-8f7cf18105bb"
      },
      "execution_count": 7,
      "outputs": [
        {
          "output_type": "stream",
          "name": "stdout",
          "text": [
            "Epoch 1/20\n",
            "92/92 [==============================] - 19s 46ms/step - loss: 1.3852 - accuracy: 0.4022 - val_loss: 1.1778 - val_accuracy: 0.5014\n",
            "Epoch 2/20\n",
            "92/92 [==============================] - 3s 30ms/step - loss: 1.0843 - accuracy: 0.5644 - val_loss: 1.0782 - val_accuracy: 0.5954\n",
            "Epoch 3/20\n",
            "92/92 [==============================] - 3s 30ms/step - loss: 0.9876 - accuracy: 0.6087 - val_loss: 0.9285 - val_accuracy: 0.6471\n",
            "Epoch 4/20\n",
            "92/92 [==============================] - 3s 29ms/step - loss: 0.9115 - accuracy: 0.6485 - val_loss: 0.9547 - val_accuracy: 0.6458\n",
            "Epoch 5/20\n",
            "92/92 [==============================] - 3s 30ms/step - loss: 0.8596 - accuracy: 0.6734 - val_loss: 0.8433 - val_accuracy: 0.6717\n",
            "Epoch 6/20\n",
            "92/92 [==============================] - 3s 30ms/step - loss: 0.7892 - accuracy: 0.6979 - val_loss: 0.8220 - val_accuracy: 0.6812\n",
            "Epoch 7/20\n",
            "92/92 [==============================] - 3s 29ms/step - loss: 0.7668 - accuracy: 0.7101 - val_loss: 0.7521 - val_accuracy: 0.7166\n",
            "Epoch 8/20\n",
            "92/92 [==============================] - 3s 29ms/step - loss: 0.7391 - accuracy: 0.7193 - val_loss: 0.7947 - val_accuracy: 0.6853\n",
            "Epoch 9/20\n",
            "92/92 [==============================] - 3s 34ms/step - loss: 0.6834 - accuracy: 0.7449 - val_loss: 0.7187 - val_accuracy: 0.7166\n",
            "Epoch 10/20\n",
            "92/92 [==============================] - 3s 31ms/step - loss: 0.6837 - accuracy: 0.7422 - val_loss: 0.7474 - val_accuracy: 0.7302\n",
            "Epoch 11/20\n",
            "92/92 [==============================] - 3s 30ms/step - loss: 0.6642 - accuracy: 0.7520 - val_loss: 0.6906 - val_accuracy: 0.7302\n",
            "Epoch 12/20\n",
            "92/92 [==============================] - 3s 33ms/step - loss: 0.6113 - accuracy: 0.7595 - val_loss: 0.6988 - val_accuracy: 0.7289\n",
            "Epoch 13/20\n",
            "92/92 [==============================] - 4s 42ms/step - loss: 0.6002 - accuracy: 0.7663 - val_loss: 0.7789 - val_accuracy: 0.7193\n",
            "Epoch 14/20\n",
            "92/92 [==============================] - 3s 29ms/step - loss: 0.5688 - accuracy: 0.7858 - val_loss: 0.7267 - val_accuracy: 0.7180\n",
            "Epoch 15/20\n",
            "92/92 [==============================] - 3s 29ms/step - loss: 0.5689 - accuracy: 0.7783 - val_loss: 0.7633 - val_accuracy: 0.7234\n",
            "Epoch 16/20\n",
            "92/92 [==============================] - 3s 33ms/step - loss: 0.5445 - accuracy: 0.7885 - val_loss: 0.7769 - val_accuracy: 0.7125\n",
            "Epoch 17/20\n",
            "92/92 [==============================] - 3s 33ms/step - loss: 0.5291 - accuracy: 0.8093 - val_loss: 0.7597 - val_accuracy: 0.7180\n",
            "Epoch 18/20\n",
            "92/92 [==============================] - 3s 30ms/step - loss: 0.5229 - accuracy: 0.8072 - val_loss: 0.6949 - val_accuracy: 0.7520\n",
            "Epoch 19/20\n",
            "92/92 [==============================] - 3s 31ms/step - loss: 0.4632 - accuracy: 0.8304 - val_loss: 0.7311 - val_accuracy: 0.7452\n",
            "Epoch 20/20\n",
            "92/92 [==============================] - 3s 30ms/step - loss: 0.4702 - accuracy: 0.8198 - val_loss: 0.6971 - val_accuracy: 0.7548\n"
          ]
        }
      ]
    },
    {
      "cell_type": "code",
      "source": [
        "# visualize training and validation results\n",
        "acc =history.history['accuracy']\n",
        "val_acc = history.history['val_accuracy']\n",
        "\n",
        "loss = history.history['loss']\n",
        "val_loss = history.history['val_loss']\n",
        "\n",
        "epochs_range = range(epochs)\n",
        "\n",
        "plt.figure(figsize=(8, 8))\n",
        "plt.subplot(1, 2, 1)\n",
        "plt.plot(epochs_range, acc, label='Training Accuracy')\n",
        "plt.plot(epochs_range, val_acc, label='Validation Accuracy')\n",
        "plt.legend(loc='lower right')\n",
        "plt.title('Training and Validation Accuracy')\n",
        "\n",
        "plt.subplot(1, 2, 2)\n",
        "plt.plot(epochs_range, loss, label='Training Loss')\n",
        "plt.plot(epochs_range, val_loss, label='Validation Loss')\n",
        "plt.legend(loc='upper right')\n",
        "plt.title('Training and Validation Loss')\n",
        "plt.show()"
      ],
      "metadata": {
        "colab": {
          "base_uri": "https://localhost:8080/",
          "height": 699
        },
        "id": "l58aK6TzTyvw",
        "outputId": "a9c19b48-2814-4b06-c975-6768bae58be6"
      },
      "execution_count": 8,
      "outputs": [
        {
          "output_type": "display_data",
          "data": {
            "text/plain": [
              "<Figure size 800x800 with 2 Axes>"
            ],
            "image/png": "[encoded data removed]"
          },
          "metadata": {}
        }
      ]
    },
    {
      "cell_type": "code",
      "source": [
        "# save the model\n",
        "model.save_weights('my_flowers_model')\n",
        "print(\"Model saved!\")"
      ],
      "metadata": {
        "colab": {
          "base_uri": "https://localhost:8080/"
        },
        "id": "Fuk5F4PvIwF1",
        "outputId": "68289e96-5858-47f2-a9d1-cb07e8a76061"
      },
      "execution_count": 9,
      "outputs": [
        {
          "output_type": "stream",
          "name": "stdout",
          "text": [
            "Model saved!\n"
          ]
        }
      ]
    },
    {
      "cell_type": "code",
      "source": [
        "# creat model\n",
        "num_classes=len(class_names)\n",
        "model =Sequential([\n",
        "    layers.experimental.preprocessing.Rescaling(1./255, input_shape=(img_height, img_width, 3)),\n",
        "\n",
        "    # augmentation\n",
        "    layers.experimental.preprocessing.RandomFlip(\"horizontal\", input_shape=(img_height, img_width, 3)),\n",
        "    layers.experimental.preprocessing.RandomRotation(0.1),\n",
        "    layers.experimental.preprocessing.RandomZoom(0.1),\n",
        "    layers.experimental.preprocessing.RandomContrast(0.2),\n",
        "\n",
        "    layers.Conv2D(16, 3, padding='same', activation='relu'),\n",
        "    layers.MaxPooling2D(),\n",
        "\n",
        "    layers.Conv2D(32, 3, padding='same', activation='relu'),\n",
        "    layers.MaxPooling2D(),\n",
        "\n",
        "    layers.Conv2D(64, 3, padding='same', activation='relu'),\n",
        "    layers.MaxPooling2D(),\n",
        "\n",
        "    # regularization\n",
        "    layers.Dropout(0.2),\n",
        "\n",
        "    layers.Flatten(),\n",
        "    layers.Dense(128, activation='relu'),\n",
        "    layers.Dense(num_classes)\n",
        "])"
      ],
      "metadata": {
        "id": "4nfHUL6KIwTQ"
      },
      "execution_count": 10,
      "outputs": []
    },
    {
      "cell_type": "code",
      "source": [
        "# compile the model\n",
        "model.compile(\n",
        "   optimizer='adam',\n",
        "   loss=tf.keras.losses.SparseCategoricalCrossentropy(from_logits=True),\n",
        "   metrics=['accuracy'])"
      ],
      "metadata": {
        "id": "yUskEezdIwU7"
      },
      "execution_count": 11,
      "outputs": []
    },
    {
      "cell_type": "code",
      "source": [
        "# load the model\n",
        "model.load_weights('my_flowers_model')\n",
        "\n",
        "# evaluate the model\n",
        "loss, acc = model.evaluate(train_ds, verbose=2)\n",
        "print(\"Retored model, accuraccy: {:5.2f}%\".format(100*acc))\n",
        "\n",
        "# load image\n",
        "img = tf.keras.utils.load_img(\"test-image.jpg\", target_size=(img_height, img_width))\n",
        "img_array = tf.keras.utils.img_to_array(img)\n",
        "img_array = tf.expand_dims(img_array, 0)\n",
        "\n",
        "# make predictions\n",
        "predictions = model.predict(img_array)\n",
        "score = tf.nn.softmax(predictions[0])\n",
        "\n",
        "# print inference result\n",
        "print(\"Most likely in the image {} ({:.2f}% probability)\".format(\n",
        "    class_names[np.argmax(score)],\n",
        "    100 *np.max(score)))\n"
      ],
      "metadata": {
        "colab": {
          "base_uri": "https://localhost:8080/"
        },
        "id": "HGjjqjgIe-Fp",
        "outputId": "a990f09e-7a57-42ea-baf9-2265150868cb"
      },
      "execution_count": 12,
      "outputs": [
        {
          "output_type": "stream",
          "name": "stdout",
          "text": [
            "92/92 - 1s - loss: 0.3383 - accuracy: 0.8849 - 974ms/epoch - 11ms/step\n",
            "Retored model, accuraccy: 88.49%\n",
            "1/1 [==============================] - 0s 155ms/step\n",
            "Most likely in the image sunflowers (99.91% probability)\n"
          ]
        }
      ]
    }
  ]
}